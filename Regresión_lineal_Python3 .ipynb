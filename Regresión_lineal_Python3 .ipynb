{
 "cells": [
  {
   "cell_type": "code",
   "execution_count": 1,
   "metadata": {},
   "outputs": [],
   "source": [
    "#Importamos los módulos que posiblemente utilicemos \n",
    "import matplotlib.pyplot as plt\n",
    "import math \n",
    "import pandas as pd \n",
    "import numpy as np  \n",
    "from scipy import stats #Este módulo es que se encarga de hacer la regresión "
   ]
  },
  {
   "cell_type": "markdown",
   "metadata": {},
   "source": [
    "# Regresión lineal en Python con el método de mínimos cuadrados \n",
    "\n",
    "Parte I. Debemos contar con los datos a ajustar, en este ejemplo, generaré unos valores aleatorios de X desde 0 hasta 40, mientras que una lista con los valores \"y\" será generada mediante una función. Los datos no necesariamente deben ser creados en el Notebook, pueden ser importados como archivo .txt o .csv (para éste último se necesita el módulo de Pandas). "
   ]
  },
  {
   "cell_type": "code",
   "execution_count": 2,
   "metadata": {},
   "outputs": [
    {
     "name": "stdout",
     "output_type": "stream",
     "text": [
      "[1, 2, 3, 4, 5, 6, 7, 8, 9, 10, 11, 12, 13, 14, 15, 16, 17, 18, 19, 20, 21, 22, 23, 24, 25, 26, 27, 28, 29, 30, 31, 32, 33, 34, 35, 36, 37, 38, 39, 40]\n"
     ]
    }
   ],
   "source": [
    "X = []  # Lista vacía de los datos de X \n",
    "\n",
    "for i in range(1,41,1):   #este ciclo generará los datos de X en la lista \n",
    "    item = i\n",
    "    X.append(i) \n",
    "print(X) "
   ]
  },
  {
   "cell_type": "markdown",
   "metadata": {},
   "source": [
    "## Parte II   \n",
    "\n",
    "Ahora serán creados los datos de Y ,  con una función aleatoria. Estos también pueden ser importados desde un .csv. "
   ]
  },
  {
   "cell_type": "code",
   "execution_count": 3,
   "metadata": {},
   "outputs": [],
   "source": [
    "Y = []   #Lista vacía de los datos para y\n",
    "\n",
    "def f(x): \n",
    "    result = a*x + 1/x     #Definimos la función que toma cada elemento en X para devolver un elemento y.\n",
    "    return result \n",
    "#Nota.- La función que elegí es aleatoria, puedes intentar probar con otra. En este caso, a es un parámetro arbitrario. \n",
    "    "
   ]
  },
  {
   "cell_type": "code",
   "execution_count": 4,
   "metadata": {},
   "outputs": [
    {
     "name": "stdout",
     "output_type": "stream",
     "text": [
      "[4.0, 6.5, 9.333333333333334, 12.25, 15.2, 18.166666666666668, 21.142857142857142, 24.125, 27.11111111111111, 30.1, 33.09090909090909, 36.083333333333336, 39.07692307692308, 42.07142857142857, 45.06666666666667, 48.0625, 51.05882352941177, 54.05555555555556, 57.05263157894737, 60.05, 63.04761904761905, 66.04545454545455, 69.04347826086956, 72.04166666666667, 75.04, 78.03846153846153, 81.03703703703704, 84.03571428571429, 87.03448275862068, 90.03333333333333, 93.03225806451613, 96.03125, 99.03030303030303, 102.02941176470588, 105.02857142857142, 108.02777777777777, 111.02702702702703, 114.02631578947368, 117.02564102564102, 120.025]\n"
     ]
    }
   ],
   "source": [
    "a = 3  #Hay que definir \"a\" \n",
    "for j in X: \n",
    "    item = f(j) \n",
    "    Y.append(item)\n",
    "print(Y) #imprimimos Y para ver como queda \n",
    "    "
   ]
  },
  {
   "cell_type": "markdown",
   "metadata": {},
   "source": [
    "## Parte III.  \n",
    "Usando matplotlib, graficamos los datos que tenemos en un principio. "
   ]
  },
  {
   "cell_type": "code",
   "execution_count": 5,
   "metadata": {},
   "outputs": [
    {
     "data": {
      "image/png": "[encoded data removed]",
      "text/plain": [
       "<Figure size 432x288 with 1 Axes>"
      ]
     },
     "metadata": {
      "needs_background": "light"
     },
     "output_type": "display_data"
    }
   ],
   "source": [
    "plt.grid(True)\n",
    "plt.title(\"Datos\")\n",
    "plt.scatter(X,Y)\n",
    "plt.xlabel(\"Valores de x\")\n",
    "plt.ylabel(\"Valores de y \")\n",
    "plt.show() "
   ]
  },
  {
   "cell_type": "code",
   "execution_count": 6,
   "metadata": {},
   "outputs": [],
   "source": [
    "# Para hacer la regresión, es necesario importar la librería \"stats\" del módulo scipy: \n",
    "from scipy import stats"
   ]
  },
  {
   "cell_type": "markdown",
   "metadata": {},
   "source": [
    "## Parte IV. Librería stats de Scipy: \n",
    "Parámetros:\n",
    "\n",
    "    slope : pendiente\n",
    "    intercept : ordenada al origen \n",
    "    r_value : coeficiente de correlación \n",
    "    p_value: \" two-sided p-value for a hypothesis test whose null hypothesis is that the slope is zero.\" \n",
    "    std_error: Error estándar de la regresión \n",
    "\n",
    "Existen otros más, pero para este ejemplo bastará con estos. "
   ]
  },
  {
   "cell_type": "code",
   "execution_count": 7,
   "metadata": {},
   "outputs": [],
   "source": [
    "#Le decimos a Python que haga la regresión y calcule los parámetros: \n",
    "\n",
    "slope,intercept,r_value,p_value,std_err= stats.linregress(X,Y) \n"
   ]
  },
  {
   "cell_type": "code",
   "execution_count": 8,
   "metadata": {},
   "outputs": [
    {
     "name": "stdout",
     "output_type": "stream",
     "text": [
      "2.9910487556663803\n",
      "0.2904640848126192\n",
      "0.9999922875642312\n"
     ]
    }
   ],
   "source": [
    "# Imprimimos los resultados del ajuste:\n",
    "\n",
    "print(slope) \n",
    "print(intercept)\n",
    "print(r_value)\n"
   ]
  },
  {
   "cell_type": "code",
   "execution_count": 9,
   "metadata": {},
   "outputs": [
    {
     "data": {
      "image/png": "[encoded data removed]",
      "text/plain": [
       "<Figure size 432x288 with 1 Axes>"
      ]
     },
     "metadata": {
      "needs_background": "light"
     },
     "output_type": "display_data"
    }
   ],
   "source": [
    "#Graficamos la recta obtenida y los datos \n",
    "X1 = np.linspace(1,40,100)  #Damos valores al dominio de la recta. Valor inicial: 0 , valor final: 40 : puntos: 100  \n",
    "recta = 2.9910487556663803 * X1  +0.2904640848126192 \n",
    "\n",
    "\n",
    "plt.grid(True)\n",
    "plt.title(\"Ajuste lineal con Scipy\")\n",
    "plt.xlabel(\"valores de X\")\n",
    "plt.ylabel(\"Valores de y\")\n",
    "plt.scatter(X,Y,color=\"green\") \n",
    "plt.plot(X1,recta,linewidth=2.0,color=\"red\")\n",
    "plt.show() "
   ]
  },
  {
   "cell_type": "markdown",
   "metadata": {},
   "source": [
    "# Ajuste lineal desde un archivo .csv  \n",
    "\n",
    "En este ejemplo se llevará a cabo el mismo procedimiento para una regresión utilizando \n",
    "un archivo .csv. Los datos utilizados corresponden a un ejercicio del libro  Physical Chemistry a Molecular Approach  de Donald A. McQuarrie.\n",
    "\n",
    "Se determinará la temperatura de ebullición y la $\\Delta H$ de vaporización  del Pb utilizando el modelo de\n",
    "Clapeyron:\n",
    "\n",
    "$$ ln \\left ( \\cfrac{P_2}{P_1} \\right )  = -\\cfrac{\\Delta H}{R} \\left ( \\cfrac{1}{T_2} - \\cfrac{1}{T_1} \\right ) $$ \n",
    "\n",
    "\n",
    "Los datos para las presiones de vapor y las temperaturas están disponibles en el archivo regresion.csv en este repositorio"
   ]
  },
  {
   "cell_type": "code",
   "execution_count": 10,
   "metadata": {},
   "outputs": [],
   "source": [
    "import pandas as pd #Necesitamos Pandas para importar archivos .csv "
   ]
  },
  {
   "cell_type": "code",
   "execution_count": 12,
   "metadata": {},
   "outputs": [],
   "source": [
    "datos = pd.read_csv(\"regresion.csv\")  #pd.readcsv leerá la información del archivo "
   ]
  },
  {
   "cell_type": "code",
   "execution_count": 13,
   "metadata": {},
   "outputs": [
    {
     "data": {
      "text/html": [
       "<div>\n",
       "<style scoped>\n",
       "    .dataframe tbody tr th:only-of-type {\n",
       "        vertical-align: middle;\n",
       "    }\n",
       "\n",
       "    .dataframe tbody tr th {\n",
       "        vertical-align: top;\n",
       "    }\n",
       "\n",
       "    .dataframe thead th {\n",
       "        text-align: right;\n",
       "    }\n",
       "</style>\n",
       "<table border=\"1\" class=\"dataframe\">\n",
       "  <thead>\n",
       "    <tr style=\"text-align: right;\">\n",
       "      <th></th>\n",
       "      <th>T (K)</th>\n",
       "      <th>P (Torr)</th>\n",
       "    </tr>\n",
       "  </thead>\n",
       "  <tbody>\n",
       "    <tr>\n",
       "      <th>0</th>\n",
       "      <td>1500</td>\n",
       "      <td>19.72</td>\n",
       "    </tr>\n",
       "    <tr>\n",
       "      <th>1</th>\n",
       "      <td>1600</td>\n",
       "      <td>48.48</td>\n",
       "    </tr>\n",
       "    <tr>\n",
       "      <th>2</th>\n",
       "      <td>1700</td>\n",
       "      <td>107.20</td>\n",
       "    </tr>\n",
       "    <tr>\n",
       "      <th>3</th>\n",
       "      <td>1800</td>\n",
       "      <td>217.70</td>\n",
       "    </tr>\n",
       "    <tr>\n",
       "      <th>4</th>\n",
       "      <td>1900</td>\n",
       "      <td>408.20</td>\n",
       "    </tr>\n",
       "  </tbody>\n",
       "</table>\n",
       "</div>"
      ],
      "text/plain": [
       "   T (K)   P (Torr) \n",
       "0    1500      19.72\n",
       "1    1600      48.48\n",
       "2    1700     107.20\n",
       "3    1800     217.70\n",
       "4    1900     408.20"
      ]
     },
     "execution_count": 13,
     "metadata": {},
     "output_type": "execute_result"
    }
   ],
   "source": [
    "datos"
   ]
  },
  {
   "cell_type": "code",
   "execution_count": 14,
   "metadata": {},
   "outputs": [],
   "source": [
    "columnas = [\"T (K) \" , \"P (Torr) \"]"
   ]
  },
  {
   "cell_type": "code",
   "execution_count": 15,
   "metadata": {},
   "outputs": [],
   "source": [
    "temp = pd.read_csv(\"regresion.csv\",usecols=columnas)"
   ]
  },
  {
   "cell_type": "code",
   "execution_count": 16,
   "metadata": {},
   "outputs": [],
   "source": [
    "T = temp[\"T (K) \"]\n",
    "P = temp[\"P (Torr) \"]"
   ]
  },
  {
   "cell_type": "code",
   "execution_count": 17,
   "metadata": {},
   "outputs": [
    {
     "data": {
      "text/plain": [
       "0    1500\n",
       "1    1600\n",
       "2    1700\n",
       "3    1800\n",
       "4    1900\n",
       "Name: T (K) , dtype: int64"
      ]
     },
     "execution_count": 17,
     "metadata": {},
     "output_type": "execute_result"
    }
   ],
   "source": [
    "T "
   ]
  },
  {
   "cell_type": "code",
   "execution_count": 20,
   "metadata": {},
   "outputs": [
    {
     "data": {
      "text/plain": [
       "0     19.72\n",
       "1     48.48\n",
       "2    107.20\n",
       "3    217.70\n",
       "4    408.20\n",
       "Name: P (Torr) , dtype: float64"
      ]
     },
     "execution_count": 20,
     "metadata": {},
     "output_type": "execute_result"
    }
   ],
   "source": [
    "P "
   ]
  },
  {
   "cell_type": "code",
   "execution_count": 23,
   "metadata": {},
   "outputs": [
    {
     "data": {
      "text/plain": [
       "0    1500\n",
       "1    1600\n",
       "2    1700\n",
       "3    1800\n",
       "4    1900\n",
       "Name: T (K) , dtype: int64"
      ]
     },
     "execution_count": 23,
     "metadata": {},
     "output_type": "execute_result"
    }
   ],
   "source": [
    " # Ahora debemos transformar los valores a ln (P) y 1/T \n",
    "\n",
    "T "
   ]
  },
  {
   "cell_type": "code",
   "execution_count": 46,
   "metadata": {},
   "outputs": [
    {
     "name": "stdout",
     "output_type": "stream",
     "text": [
      "[0.0006666666666666666, 0.000625, 0.000588235294117647, 0.0005555555555555556, 0.0005263157894736842]\n"
     ]
    }
   ],
   "source": [
    "A = [] \n",
    "for i in T:\n",
    "    item = 1/(i) \n",
    "    A.append(item)\n",
    "print(A) "
   ]
  },
  {
   "cell_type": "code",
   "execution_count": 49,
   "metadata": {},
   "outputs": [
    {
     "name": "stdout",
     "output_type": "stream",
     "text": [
      "[7.874403367390622, 8.77392135997719, 9.567466266852835, 10.275887986456635, 10.904527268591877]\n"
     ]
    }
   ],
   "source": [
    "B = [] \n",
    "for j in P:\n",
    "    item1 = np.log(j*101325/760) \n",
    "    B.append(item1) \n",
    "print(B) "
   ]
  },
  {
   "cell_type": "code",
   "execution_count": 50,
   "metadata": {},
   "outputs": [
    {
     "name": "stdout",
     "output_type": "stream",
     "text": [
      "-21597.559586373904\n",
      "22.272656340581797\n",
      "-0.9999995529391851\n"
     ]
    }
   ],
   "source": [
    "slope,intercept,r_value,p_value,std_err= stats.linregress(A,B)\n",
    "print(slope)      #Datos de la regresión \n",
    "print(intercept)\n",
    "print(r_value)"
   ]
  },
  {
   "cell_type": "code",
   "execution_count": 63,
   "metadata": {},
   "outputs": [
    {
     "data": {
      "text/plain": [
       "[0.0006666666666666666,\n",
       " 0.000625,\n",
       " 0.000588235294117647,\n",
       " 0.0005555555555555556,\n",
       " 0.0005263157894736842]"
      ]
     },
     "execution_count": 63,
     "metadata": {},
     "output_type": "execute_result"
    }
   ],
   "source": [
    "m = slope\n",
    "b = intercept \n",
    "p = np.linspace(1/1450,1/2000,300) \n",
    "recta = m*p + b \n",
    "A "
   ]
  },
  {
   "cell_type": "code",
   "execution_count": 67,
   "metadata": {},
   "outputs": [
    {
     "data": {
      "image/png": "[encoded data removed]",
      "text/plain": [
       "<Figure size 432x288 with 1 Axes>"
      ]
     },
     "metadata": {
      "needs_background": "light"
     },
     "output_type": "display_data"
    }
   ],
   "source": [
    "plt.title(\"Regresión lineal ln(P) vs 1/T\")\n",
    "plt.xlabel(\"1/T\")\n",
    "plt.ylabel(\"ln(P)\")\n",
    "plt.scatter(A,B) \n",
    "plt.xlim(0.0002,0.0010)\n",
    "plt.plot(p,recta) \n",
    "plt.show() "
   ]
  },
  {
   "cell_type": "code",
   "execution_count": null,
   "metadata": {},
   "outputs": [],
   "source": []
  },
  {
   "cell_type": "code",
   "execution_count": null,
   "metadata": {},
   "outputs": [],
   "source": []
  }
 ],
 "metadata": {
  "kernelspec": {
   "display_name": "Python 3",
   "language": "python",
   "name": "python3"
  },
  "language_info": {
   "codemirror_mode": {
    "name": "ipython",
    "version": 3
   },
   "file_extension": ".py",
   "mimetype": "text/x-python",
   "name": "python",
   "nbconvert_exporter": "python",
   "pygments_lexer": "ipython3",
   "version": "3.7.6"
  }
 },
 "nbformat": 4,
 "nbformat_minor": 4
}
