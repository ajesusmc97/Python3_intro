{
 "cells": [
  {
   "cell_type": "markdown",
   "metadata": {},
   "source": [
    "# Partícula en un anillo. \n",
    "\n",
    "En este ejercicio se estudiará un problema común en mecánica cuántica, que consiste en una \n",
    "partícula que gira generando un anillo como trayectoria. Para este sistema, el hamiltoniano en coordenadas \n",
    "cartesianas es : \n",
    "\n",
    "$$ \\hat{H} = -\\cfrac{\\hbar ^2}{2m} \\left ( \\cfrac{d^2}{dx^2} + \\cfrac{d^2}{dy^2} \\right ) $$ \n",
    "   \n",
    " \n",
    "Debido a la simetría del problema, el cambio a coordenadas polares definiendo: \n",
    "$$ x = rcos(\\theta ) $$\n",
    "$$ y = rsin(\\theta ) $$ \n",
    "donde r es una constante ,da por resultado  la ecuación de Schrodinger: \n",
    "$$ \\hat{H} \\psi (\\theta ) = -\\cfrac{\\hbar ^2}{2I} \\cfrac{d^2 \\psi (\\theta ) }{d\\theta ^2} = E \\psi (\\theta)    $$  \n",
    "\n",
    "siendo I el momento de inercia: \n",
    "$$ I = mr^2 $$ \n",
    "\n",
    "Como en este caso solo existe un único grado de libertad ($\\theta $), solo habrá un número cuántico. La cuantización surge del hecho de imponer las condiciones de frontera al problema: \n",
    "$$ \\psi (\\theta + 2\\pi ) = \\psi (\\theta ) $$ "
   ]
  },
  {
   "cell_type": "code",
   "execution_count": 11,
   "metadata": {},
   "outputs": [],
   "source": [
    "import sympy as sp   # Módulo de álgebra simbólica \n",
    "import numpy as np  \n",
    "from sympy import Symbol, Function , Eq \n",
    "sp.init_printing()"
   ]
  },
  {
   "cell_type": "code",
   "execution_count": 19,
   "metadata": {},
   "outputs": [
    {
     "data": {
      "image/png": "[encoded data removed]",
      "text/latex": [
       "$\\displaystyle - \\frac{h^{2} \\frac{d^{2}}{d θ^{2}} Ψ{\\left(θ \\right)}}{2 I} = E Ψ{\\left(θ \\right)}$"
      ],
      "text/plain": [
       "      2                \n",
       "  2  d                 \n",
       "-h ⋅───(Ψ(θ))          \n",
       "      2                \n",
       "    dθ                 \n",
       "────────────── = E⋅Ψ(θ)\n",
       "     2⋅I               "
      ]
     },
     "execution_count": 19,
     "metadata": {},
     "output_type": "execute_result"
    }
   ],
   "source": [
    "# Definimos las variables involucradas: \n",
    "h = Symbol(\"h\", Positive=True )\n",
    "θ = Symbol(\"θ\")\n",
    "I = Symbol(\"I\" , Positive = True)\n",
    "Ψ = Function(\"Ψ\")(θ)\n",
    "m = Symbol(\"m\", Positive=True)\n",
    "E = Symbol(\"E\")\n",
    "#ahora escribimos la ecuación diferencial \n",
    "eqn= Eq(-h**2/(2*I)* sp.diff(Ψ,θ,2) , E*Ψ)\n",
    "eqn \n"
   ]
  },
  {
   "cell_type": "code",
   "execution_count": 20,
   "metadata": {},
   "outputs": [
    {
     "data": {
      "image/png": "[encoded data removed]",
      "text/latex": [
       "$\\displaystyle Ψ{\\left(θ \\right)} = C_{1} e^{- \\frac{\\sqrt{2} θ \\sqrt{- E I}}{h}} + C_{2} e^{\\frac{\\sqrt{2} θ \\sqrt{- E I}}{h}}$"
      ],
      "text/plain": [
       "                   ______               ______\n",
       "           -√2⋅θ⋅╲╱ -E⋅I         √2⋅θ⋅╲╱ -E⋅I \n",
       "           ───────────────       ─────────────\n",
       "                  h                    h      \n",
       "Ψ(θ) = C₁⋅ℯ                + C₂⋅ℯ             "
      ]
     },
     "execution_count": 20,
     "metadata": {},
     "output_type": "execute_result"
    }
   ],
   "source": [
    "# Utilizamos la función dsolve() \n",
    "\n",
    "solucion = sp.dsolve(eqn)\n",
    "solucion "
   ]
  },
  {
   "cell_type": "markdown",
   "metadata": {},
   "source": [
    "De lo anterior vemos que las soluciones son del tipo:\n",
    "$$\\psi (\\theta) = C e^{in\\theta } $$ \n",
    "Con \n",
    "$$ n = \\cfrac{\\sqrt{2EI}} {\\hbar}  $$ \n",
    "\n",
    "Con las condiciones a la frontera: \n",
    "\n",
    "$$e^{in\\theta} = e^{in\\theta + 2\\pi} = e^{in\\theta} e^{2in\\pi} $$ \n",
    "\n",
    "Por lo tanto : \n",
    "\n",
    "$$ 1 = e^{2in\\pi} $$\n",
    "\n",
    "Por identidad de Euler: \n",
    "\n",
    "$$ 1 = cos(2\\pi n \\theta) + isin(2\\pi n\\theta ) $$ \n",
    "\n",
    "Lo que implica que forzosamente: \n",
    "\n",
    "$$ n = 0 , \\pm 1 , \\pm 2 ... $$ \n",
    "\n",
    "Finalmente, despejando la energía en términos del número cuántico: \n",
    "$$ E = \\cfrac{n^2 \\hbar ^2}{2I} $$ "
   ]
  },
  {
   "cell_type": "code",
   "execution_count": null,
   "metadata": {},
   "outputs": [],
   "source": []
  },
  {
   "cell_type": "code",
   "execution_count": 40,
   "metadata": {},
   "outputs": [],
   "source": [
    "## Ahora veremos cómo está cuantizada la energía, graficando para varios valores de n \n",
    "\n",
    "import matplotlib.pyplot as plt\n",
    "from scipy import constants\n",
    "h = constants.physical_constants[\"Planck constant\"]\n",
    "hbar = h[0]/(2*sp.pi) \n",
    "m = 9.1E-31   # Masa de un electrón \n",
    "r = 0.529E-10 #1 radio de Bohr \n",
    "I = m*r**2 "
   ]
  },
  {
   "cell_type": "code",
   "execution_count": 70,
   "metadata": {},
   "outputs": [
    {
     "data": {
      "image/png": "[encoded data removed]",
      "text/plain": [
       "<Figure size 432x288 with 1 Axes>"
      ]
     },
     "metadata": {
      "needs_background": "light"
     },
     "output_type": "display_data"
    }
   ],
   "source": [
    "for n in range(0,18,1): #gráfica de la energía\n",
    "    E = n**2*hbar**2/(2*I)\n",
    "    plt.title(\"Energía de la partícula en un anillo\")\n",
    "    plt.xlabel(\"n\")\n",
    "    plt.ylabel(\"E (J) \")\n",
    "    plt.ylim(9E-19,9E-16)\n",
    "    plt.scatter(n,E)\n",
    "    "
   ]
  },
  {
   "cell_type": "code",
   "execution_count": 46,
   "metadata": {},
   "outputs": [
    {
     "data": {
      "image/png": "[encoded data removed]",
      "text/latex": [
       "$\\displaystyle \\frac{8.62043788380478 \\cdot 10^{-17}}{\\pi^{2}}$"
      ],
      "text/plain": [
       "8.62043788380478e-17\n",
       "────────────────────\n",
       "          2         \n",
       "         π          "
      ]
     },
     "execution_count": 46,
     "metadata": {},
     "output_type": "execute_result"
    }
   ],
   "source": [
    " E = 2**2*hbar**2/(2*I)\n",
    "E "
   ]
  },
  {
   "cell_type": "markdown",
   "metadata": {},
   "source": [
    "Para graficar las distribuciones de probabilidad, $|\\psi ^2 (\\theta ) | $  debemos hallar las constantes tal que $\\psi $ esté normalizada, es decir:\n",
    "\n",
    "$$ C^2 \\int _0 ^{2\\pi} \\psi ^* (\\theta ) \\psi (\\theta ) d\\theta = 1.0 $$ \n",
    "\n",
    "Cuyo resultado es:\n",
    "\n",
    "$$ C = \\cfrac{1}{\\sqrt{2\\pi}} $$ "
   ]
  },
  {
   "cell_type": "code",
   "execution_count": 75,
   "metadata": {},
   "outputs": [
    {
     "data": {
      "image/png": "[encoded data removed]",
      "text/latex": [
       "$\\displaystyle 1.0 \\sqrt{\\frac{1}{\\int\\limits_{0}^{2 \\pi} Ψ{\\left(θ \\right)} \\overline{Ψ{\\left(θ \\right)}}\\, dθ}}$"
      ],
      "text/plain": [
       "             __________________\n",
       "            ╱        1         \n",
       "1.0⋅       ╱  ──────────────── \n",
       "          ╱   2⋅π              \n",
       "         ╱     ⌠               \n",
       "        ╱      ⎮       ____    \n",
       "       ╱       ⎮  Ψ(θ)⋅Ψ(θ) dθ \n",
       "      ╱        ⌡               \n",
       "    ╲╱         0               "
      ]
     },
     "execution_count": 75,
     "metadata": {},
     "output_type": "execute_result"
    }
   ],
   "source": [
    "import numpy as np \n"
   ]
  },
  {
   "cell_type": "code",
   "execution_count": null,
   "metadata": {},
   "outputs": [],
   "source": []
  }
 ],
 "metadata": {
  "kernelspec": {
   "display_name": "Python 3",
   "language": "python",
   "name": "python3"
  },
  "language_info": {
   "codemirror_mode": {
    "name": "ipython",
    "version": 3
   },
   "file_extension": ".py",
   "mimetype": "text/x-python",
   "name": "python",
   "nbconvert_exporter": "python",
   "pygments_lexer": "ipython3",
   "version": "3.7.6"
  }
 },
 "nbformat": 4,
 "nbformat_minor": 4
}
