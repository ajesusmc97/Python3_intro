{
 "cells": [
  {
   "cell_type": "markdown",
   "metadata": {},
   "source": [
    "##  Orbitales del átomo de Hidrógeno \n",
    "\n",
    "En este documento se hará un estudio cualitativo de los orbitales atómicos en el Hidrógeno . \n",
    "\n",
    "Recordemos que los orbitales hidrogenoides son resultado de resolver la ec. de Schrodinger independiente del tiempo : \n",
    "\n",
    "$$\\hat{H} \\Psi (r,\\theta , \\phi ) = E \\Psi (r, \\theta, \\phi ) $$ \n",
    "\n",
    "En unidades atómicas, el hamiltoniano del sistema es:\n",
    "\n",
    "$$ \\hat{H} = -\\cfrac{1}{2r} \\cfrac{\\partial ^2 }{\\partial r^2} \\left ( r \\right ) + \\cfrac{1}{r} \\Lambda ^2 $$\n",
    "donde $\\Lambda$ es el Legendriano.\n",
    "\n",
    "A continuación se proporciona el orbital $\\Psi _{1s} $  del átomo de Hidrógeno: \n"
   ]
  },
  {
   "cell_type": "code",
   "execution_count": 32,
   "metadata": {},
   "outputs": [
    {
     "data": {
      "image/png": "[encoded data removed]",
      "text/latex": [
       "$\\displaystyle \\frac{e^{- r}}{\\sqrt{\\pi}}$"
      ],
      "text/plain": [
       " -r\n",
       "ℯ  \n",
       "───\n",
       " √π"
      ]
     },
     "execution_count": 32,
     "metadata": {},
     "output_type": "execute_result"
    }
   ],
   "source": [
    "import sympy as sp\n",
    "r = sp.symbols(\"r\")\n",
    "θ = sp.symbols(\"θ\")\n",
    "ϕ = sp.symbols(\"ϕ\")\n",
    "sp.init_printing() \n",
    "f1s = 1/sp.sqrt(sp.pi) * sp.exp(-r) \n",
    "f1s"
   ]
  },
  {
   "cell_type": "code",
   "execution_count": 33,
   "metadata": {},
   "outputs": [
    {
     "data": {
      "image/png": "[encoded data removed]",
      "text/latex": [
       "$\\displaystyle 4 r^{2} e^{- 2 r}$"
      ],
      "text/plain": [
       "   2  -2⋅r\n",
       "4⋅r ⋅ℯ    "
      ]
     },
     "execution_count": 33,
     "metadata": {},
     "output_type": "execute_result"
    }
   ],
   "source": [
    "# Ahora graficaremos la función de distribución de probabilidad radial \n",
    "\n",
    "r1s = sp.integrate(sp.integrate(f1s**2*sp.sin(θ)* r**2 , (θ , 0 , sp.pi) ) , (ϕ , 0 , 2*sp.pi))\n",
    "#Verificamos que esté normalizada : \n",
    "r1s"
   ]
  },
  {
   "cell_type": "code",
   "execution_count": 34,
   "metadata": {},
   "outputs": [],
   "source": [
    "import matplotlib.pyplot as plt \n",
    "import numpy as np \n"
   ]
  },
  {
   "cell_type": "code",
   "execution_count": 35,
   "metadata": {},
   "outputs": [
    {
     "data": {
      "image/png": "[encoded data removed]",
      "text/latex": [
       "$\\displaystyle 1$"
      ],
      "text/plain": [
       "1"
      ]
     },
     "execution_count": 35,
     "metadata": {},
     "output_type": "execute_result"
    }
   ],
   "source": [
    "sp.integrate(r1s,(r,0,sp.oo))"
   ]
  },
  {
   "cell_type": "code",
   "execution_count": 36,
   "metadata": {},
   "outputs": [],
   "source": [
    "#hay que volver evaluables las funciones de Sympy \n",
    "lam_1s = sp.lambdify(r,r1s,modules=[\"numpy\"])"
   ]
  },
  {
   "cell_type": "code",
   "execution_count": 40,
   "metadata": {},
   "outputs": [],
   "source": [
    "r1 = np.linspace(0,10,100)\n",
    "psi1s = lam_1s(r1)"
   ]
  },
  {
   "cell_type": "code",
   "execution_count": 41,
   "metadata": {},
   "outputs": [
    {
     "data": {
      "text/plain": [
       "[<matplotlib.lines.Line2D at 0x7f352c2c36d0>]"
      ]
     },
     "execution_count": 41,
     "metadata": {},
     "output_type": "execute_result"
    },
    {
     "data": {
      "image/png": "[encoded data removed]",
      "text/plain": [
       "<Figure size 432x288 with 1 Axes>"
      ]
     },
     "metadata": {
      "needs_background": "light"
     },
     "output_type": "display_data"
    }
   ],
   "source": [
    "plt.plot(r1,psi1s)"
   ]
  },
  {
   "cell_type": "code",
   "execution_count": 46,
   "metadata": {},
   "outputs": [
    {
     "data": {
      "image/png": "[encoded data removed]",
      "text/latex": [
       "$\\displaystyle \\left[ 0, \\  1\\right]$"
      ],
      "text/plain": [
       "[0, 1]"
      ]
     },
     "execution_count": 46,
     "metadata": {},
     "output_type": "execute_result"
    }
   ],
   "source": [
    "#Distancia radial más probable donde se encuentra el electrón  del núcleo \n",
    "\n",
    "der_psi1s = sp.Derivative(r1s,r).doit() \n",
    "sp.solve(der_psi1s,r)  "
   ]
  },
  {
   "cell_type": "code",
   "execution_count": null,
   "metadata": {},
   "outputs": [],
   "source": []
  },
  {
   "cell_type": "code",
   "execution_count": 52,
   "metadata": {},
   "outputs": [],
   "source": [
    "# Ahora serán graficadas las distribuciones radiales de los orbitales 1s hasta 3d, así como las distancias más \n",
    "# probables donde esté el electrón (los máximos de dichas distribuciones de probabilidad)\n"
   ]
  },
  {
   "cell_type": "code",
   "execution_count": null,
   "metadata": {},
   "outputs": [],
   "source": []
  }
 ],
 "metadata": {
  "kernelspec": {
   "display_name": "Python 3",
   "language": "python",
   "name": "python3"
  },
  "language_info": {
   "codemirror_mode": {
    "name": "ipython",
    "version": 3
   },
   "file_extension": ".py",
   "mimetype": "text/x-python",
   "name": "python",
   "nbconvert_exporter": "python",
   "pygments_lexer": "ipython3",
   "version": "3.7.7"
  }
 },
 "nbformat": 4,
 "nbformat_minor": 4
}
